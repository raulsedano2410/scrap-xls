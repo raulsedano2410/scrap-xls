{
 "cells": [
  {
   "cell_type": "code",
   "execution_count": 1,
   "metadata": {},
   "outputs": [
    {
     "name": "stderr",
     "output_type": "stream",
     "text": [
      "C:\\Users\\raul\\AppData\\Local\\Temp\\ipykernel_12772\\1766852082.py:11: DeprecationWarning: \n",
      "Pyarrow will become a required dependency of pandas in the next major release of pandas (pandas 3.0),\n",
      "(to allow more performant data types, such as the Arrow string type, and better interoperability with other libraries)\n",
      "but was not found to be installed on your system.\n",
      "If this would cause problems for you,\n",
      "please provide us feedback at https://github.com/pandas-dev/pandas/issues/54466\n",
      "        \n",
      "  import pandas as pd\n"
     ]
    }
   ],
   "source": [
    "from selenium import webdriver\n",
    "from selenium.webdriver.chrome.service import Service\n",
    "from selenium.webdriver.chrome.options import Options\n",
    "\n",
    "from selenium.webdriver.common.by import By\n",
    "from webdriver_manager.chrome import ChromeDriverManager\n",
    "from selenium.webdriver.support.ui import WebDriverWait\n",
    "from selenium.webdriver.support import expected_conditions as EC\n",
    "from selenium.common.exceptions import NoSuchElementException,TimeoutException\n",
    "import os\n",
    "import pandas as pd\n",
    "import time\n",
    "from time import sleep\n",
    "from urllib.parse import urlparse, parse_qs\n",
    "import csv\n",
    "\n",
    "import json\n"
   ]
  },
  {
   "cell_type": "code",
   "execution_count": 2,
   "metadata": {},
   "outputs": [],
   "source": [
    "def getselects(option):\n",
    "    with open('selects.json', 'r') as archivo_json:\n",
    "        options = json.load(archivo_json)\n",
    "    return options[option]"
   ]
  },
  {
   "cell_type": "code",
   "execution_count": 3,
   "metadata": {},
   "outputs": [],
   "source": [
    "def seasons(driver, options='0'):\n",
    "\n",
    "    # get json\n",
    "    selects = getselects('seasons')\n",
    "\n",
    "    if  isinstance(options, int):\n",
    "\n",
    "        season_name = selects[str(options)]\n",
    "        option = driver.find_element(By.ID, f'TreeViewSeasonn{options}CheckBox')\n",
    "        option.click()\n",
    "        print(f\"selected seasons: {season_name}\")\n",
    "\n",
    "    elif isinstance(options, str):\n",
    "\n",
    "        for option in options.split(','):\n",
    "            option = option.strip()\n",
    "\n",
    "            if option.isdigit():\n",
    "                season_name = selects[option]\n",
    "                check_option = driver.find_element(By.ID, f'TreeViewSeasonn{option}CheckBox')\n",
    "                check_option.click()\n",
    "                print(f\"selected seasons: {season_name}\")\n",
    "            else:\n",
    "                season_code = selects[option.title()]\n",
    "                check_option = driver.find_element(By.ID, f'TreeViewSeasonn{season_code}CheckBox')\n",
    "                check_option.click()\n",
    "                print(f\"selected seasons: {option}\")\n"
   ]
  },
  {
   "cell_type": "code",
   "execution_count": 4,
   "metadata": {},
   "outputs": [],
   "source": [
    "def years(driver, options):\n",
    "\n",
    "     # get json\n",
    "    selects = getselects('years')\n",
    "\n",
    "    if isinstance(options, int):\n",
    "\n",
    "        year_code = selects[option]\n",
    "        year = driver.find_element(By.ID, f'TreeViewYearn{year_code}CheckBox')\n",
    "        year.click()\n",
    "        print(f\"selected year: {options}\")\n",
    "\n",
    "    elif isinstance(options, str):\n",
    "\n",
    "        for option in options.split(','):\n",
    "            option = option.strip()\n",
    "\n",
    "            year_code = selects[option]\n",
    "            year = driver.find_element(By.ID, f'TreeViewYearn{year_code}CheckBox')\n",
    "            year.click()\n",
    "\n",
    "            print(f\"selected year: {option}\")"
   ]
  },
  {
   "cell_type": "code",
   "execution_count": 5,
   "metadata": {},
   "outputs": [],
   "source": [
    "def districtmode(driver):\n",
    "\n",
    "    year = driver.find_element(By.ID, 'RadioButtonList1_1')\n",
    "    year.click()\n",
    "\n",
    "    print(f\"selected districts\")"
   ]
  },
  {
   "cell_type": "code",
   "execution_count": 6,
   "metadata": {},
   "outputs": [],
   "source": [
    "def states(driver, options):\n",
    "\n",
    "    selects = getselects('states')\n",
    "\n",
    "    for option in options.split(','):\n",
    "\n",
    "        state = driver.find_element(By.ID, f'{selects[option.strip()][\"id_district\"]}')\n",
    "        state.click()\n",
    "\n",
    "    print(f\"selected state: {options}\")"
   ]
  },
  {
   "cell_type": "code",
   "execution_count": 7,
   "metadata": {},
   "outputs": [],
   "source": [
    "def state_dist_on(driver, options):\n",
    "\n",
    "    selects = getselects('state_dist_on')\n",
    "\n",
    "    for option in options.split(','):\n",
    "\n",
    "        state = driver.find_element(By.ID, f'{selects[option.strip()][\"state_id\"]}')\n",
    "        state.click()\n",
    "\n",
    "    print(f\"selected state: {options}\")"
   ]
  },
  {
   "cell_type": "code",
   "execution_count": 8,
   "metadata": {},
   "outputs": [],
   "source": [
    "def crops(driver, options):\n",
    "\n",
    "    selects = getselects('crops')\n",
    "\n",
    "    for option in options.split(','):\n",
    "\n",
    "        state = driver.find_element(By.ID, f'{selects[option.strip()][\"id\"]}')\n",
    "        state.click()\n",
    "\n",
    "    print(f\"selected state: {options}\")"
   ]
  },
  {
   "cell_type": "code",
   "execution_count": 9,
   "metadata": {},
   "outputs": [],
   "source": [
    "def excel_mode(driver):\n",
    "    option_excel = driver.find_element(By.XPATH, '//*[@id=\"DdlFormat\"]/option[1]')\n",
    "\n",
    "    driver.execute_script('arguments[0].innerHTML=\"Excel\";', option_excel)\n",
    "    driver.execute_script('arguments[0].setAttribute(\"value\", \"2\");', option_excel)"
   ]
  },
  {
   "cell_type": "code",
   "execution_count": 10,
   "metadata": {},
   "outputs": [],
   "source": [
    "def scraper(season='0', year='2023', by_districts=False):\n",
    "\n",
    "    options = Options()\n",
    "    options.add_argument(\"--start-maximized\")\n",
    "    options.add_argument(\"--start-fullscreen\")\n",
    "    options.add_argument(\"window-position=-1920,0\")\n",
    "\n",
    "    service = Service(ChromeDriverManager().install())\n",
    "    url = \"https://aps.dac.gov.in/APY/Public_Report1.aspx\"\n",
    "\n",
    "    driver = webdriver.Chrome(service=service, options=options)\n",
    "    driver.get(url)\n",
    "\n",
    "\n",
    "\n",
    "    try:\n",
    "        seasons(driver, season)\n",
    "    except KeyError  as e:\n",
    "        print(\"Incorrect parameter or data type:\", e)\n",
    "        raise\n",
    "\n",
    "\n",
    "    try:\n",
    "        years(driver, year)\n",
    "    except KeyError  as e:\n",
    "        print(\"Incorrect parameter or data type:\", e)\n",
    "        raise\n",
    "\n",
    "    if by_districts:\n",
    "        districtmode(driver)\n",
    "\n",
    "    sleep(5)"
   ]
  },
  {
   "cell_type": "code",
   "execution_count": 23,
   "metadata": {},
   "outputs": [],
   "source": [
    "options = Options()\n",
    "options.add_argument(\"--start-maximized\")\n",
    "options.add_argument(\"--start-fullscreen\")\n",
    "options.add_argument(\"window-position=-1920,0\")\n",
    "\n",
    "service = Service(ChromeDriverManager().install())\n",
    "url = \"https://aps.dac.gov.in/APY/Public_Report1.aspx\"\n",
    "\n",
    "driver = webdriver.Chrome(service=service, options=options)\n",
    "driver.get(url)\n"
   ]
  },
  {
   "cell_type": "code",
   "execution_count": 12,
   "metadata": {},
   "outputs": [
    {
     "name": "stdout",
     "output_type": "stream",
     "text": [
      "selected districts\n"
     ]
    }
   ],
   "source": [
    "districtmode(driver)"
   ]
  },
  {
   "cell_type": "code",
   "execution_count": 2,
   "metadata": {},
   "outputs": [],
   "source": [
    "driver.quit()"
   ]
  },
  {
   "cell_type": "code",
   "execution_count": null,
   "metadata": {},
   "outputs": [],
   "source": [
    "import os\n",
    "import time\n",
    "import requests\n",
    "from selenium import webdriver\n",
    "from selenium.webdriver.common.by import By\n",
    "\n",
    "button = driver.find_element(By.XPATH, '//*[@id=\"Button1\"]')\n",
    "driver.execute_script(\"arguments[0].onclick = null\",button)\n",
    "\n",
    "# Obtener la ruta de descarga predeterminada del navegador\n",
    "carpeta_descargas = os.path.expanduser(\"~\") + \"\\\\Downloads\\\\\"\n",
    "\n",
    "button.click()\n",
    "\n",
    "time.sleep(5)\n",
    "\n",
    "# Buscar el archivo en la carpeta de descargas\n",
    "archivos_descargados = os.listdir(carpeta_descargas)\n",
    "archivo_generado = [archivo for archivo in archivos_descargados if archivo.startswith(\"nombre_del_archivo_generado\")]\n",
    "\n",
    "\n",
    "# Mover el archivo a la carpeta específica\n",
    "if archivo_generado:\n",
    "    ruta_origen = os.path.join(carpeta_descargas, archivo_generado[0])\n",
    "    ruta_destino = \"ruta_a_la_carpeta_específica\\\\mi_archivo.xlsx\"  # Cambia esta ruta por la ruta a tu carpeta específica y el nombre deseado para el archivo\n",
    "    os.rename(ruta_origen, ruta_destino)\n"
   ]
  },
  {
   "cell_type": "code",
   "execution_count": 13,
   "metadata": {},
   "outputs": [
    {
     "name": "stdout",
     "output_type": "stream",
     "text": [
      "Se ha excedido el tiempo de espera máximo.\n",
      "El archivo no se ha cargado dentro del tiempo de espera máximo.\n"
     ]
    }
   ],
   "source": [
    "import os\n",
    "import time\n",
    "\n",
    "# Ruta de la carpeta que deseas monitorear\n",
    "ruta_carpeta = \"output\"\n",
    "\n",
    "# Nombre del archivo que esperas\n",
    "nombre_archivo = \"Report (2).xls\"\n",
    "\n",
    "# Nuevo Nombre del archivo que esperas\n",
    "nuevo_archivo = \"Reportzzzzzzzzz.xls\"\n",
    "\n",
    "# Tiempo de espera máximo en segundos\n",
    "tiempo_maximo_espera = 60\n",
    "\n",
    "# Inicializar el tiempo de inicio\n",
    "tiempo_inicio = time.time()\n",
    "\n",
    "# Esperar a que el archivo aparezca en la carpeta\n",
    "while not os.path.exists(os.path.join(ruta_carpeta, nombre_archivo)):\n",
    "    # Verificar si se ha excedido el tiempo de espera máximo\n",
    "    if time.time() - tiempo_inicio > tiempo_maximo_espera:\n",
    "        print(\"Se ha excedido el tiempo de espera máximo.\")\n",
    "        break\n",
    "\n",
    "    # Esperar un breve período antes de volver a verificar\n",
    "    time.sleep(1)\n",
    "\n",
    "# Tomar acciones después de que el archivo se haya cargado\n",
    "if os.path.exists(os.path.join(ruta_carpeta, nombre_archivo)):\n",
    "    print(\"El archivo se ha cargado correctamente. Se pueden tomar acciones adicionales.\")\n",
    "    # Aquí puedes agregar tu código para realizar acciones después de que el archivo se haya cargado\n",
    "else:\n",
    "    print(\"El archivo no se ha cargado dentro del tiempo de espera máximo.\")\n",
    "\n"
   ]
  },
  {
   "cell_type": "code",
   "execution_count": 19,
   "metadata": {},
   "outputs": [
    {
     "data": {
      "text/plain": [
       "'C:\\\\Users\\\\raul\\\\Downloads\\\\'"
      ]
     },
     "execution_count": 19,
     "metadata": {},
     "output_type": "execute_result"
    }
   ],
   "source": [
    "\n",
    "carpeta_descargas = os.path.expanduser(\"~\") + \"\\\\Downloads\\\\\"\n",
    "carpeta_descargas"
   ]
  },
  {
   "cell_type": "code",
   "execution_count": 19,
   "metadata": {},
   "outputs": [
    {
     "name": "stdout",
     "output_type": "stream",
     "text": [
      "El archivo se movió correctamente.\n"
     ]
    }
   ],
   "source": [
    "import os\n",
    "import shutil\n",
    "from pathlib import Path\n",
    "\n",
    "# carpeta destino\n",
    "carpeta_destino = \"output\"\n",
    "\n",
    "# Nombre del archivo que esperas\n",
    "nombre_archivo = \"mi_archivo.csv\"\n",
    "\n",
    "# Obtener el user profile folder\n",
    "downloads_path = Path.home() / \"Downloads\"\n",
    "\n",
    "# Ruta completa de los archivos\n",
    "ruta_archivo_origen = os.path.join(downloads_path, 'Report (2s).xls')\n",
    "ruta_archivo_destino = os.path.join(carpeta_destino, 'qqqqssqq.xls')\n",
    "\n",
    "# Tiempo de espera máximo en segundos\n",
    "tiempo_maximo_espera = 60\n",
    "\n",
    "while not os.path.exists(os.path.join(downloads_path, 'Report (2s).xls')):\n",
    "    sleep(0.5)\n",
    "\n",
    "# Obtener el tamaño inicial del archivo\n",
    "tamaño_anterior  = os.path.getsize(ruta_archivo_origen)\n",
    "\n",
    "# Inicializar el tiempo de inicio\n",
    "tiempo_inicio = time.time()\n",
    "# Esperar a que el archivo termine de descargar\n",
    "while True:\n",
    "    # Verificar si el tamaño del archivo sigue siendo el mismo\n",
    "    tamaño_actual = os.path.getsize(ruta_archivo_origen)\n",
    "    if tamaño_actual == tamaño_anterior :\n",
    "        # El tamaño del archivo no ha cambiado, lo que indica que ha terminado de descargar\n",
    "        break\n",
    "\n",
    "    # Verificar si se ha excedido el tiempo máximo de espera\n",
    "    if time.time() - tiempo_inicio > tiempo_maximo_espera:\n",
    "        print(\"Se ha excedido el tiempo de espera máximo.\")\n",
    "        break\n",
    "\n",
    "    # Actualizar el tamaño anterior para la próxima iteración\n",
    "    tamaño_anterior = tamaño_actual\n",
    "    # Esperar un breve período antes de volver a verificar\n",
    "    time.sleep(1)\n",
    "\n",
    "# Mover el archivo a la nueva carpeta\n",
    "shutil.move(ruta_archivo_origen, ruta_archivo_destino)\n",
    "\n",
    "# Verificar si el archivo se movió correctamente\n",
    "if os.path.exists(ruta_archivo_destino):\n",
    "    print(\"El archivo se movió correctamente.\")\n",
    "else:\n",
    "    print(\"Hubo un error al mover el archivo.\")\n"
   ]
  },
  {
   "cell_type": "code",
   "execution_count": 15,
   "metadata": {},
   "outputs": [
    {
     "data": {
      "text/plain": [
       "5120"
      ]
     },
     "execution_count": 15,
     "metadata": {},
     "output_type": "execute_result"
    }
   ],
   "source": [
    "service = Service(executable_path='/Users/ar8787/Downloads/chromedriver-mac-arm64/chromedriver')\n",
    "options = webdriver.ChromeOptions()\n",
    "\n",
    "# Set the default download directory\n",
    "download_dir = folder_save\n",
    "prefs = {\"download.default_directory\" : download_dir}\n",
    "options.add_experimental_option(\"prefs\", prefs)\n",
    "\n",
    "driver = webdriver.Chrome(service=service, options=options)\n",
    "\n",
    "\n",
    "\n",
    "url = \"https://libguides.princeton.edu/resource/4554\"\n",
    "\n",
    "driver.get(url) #navigate to the page"
   ]
  },
  {
   "cell_type": "code",
   "execution_count": 24,
   "metadata": {},
   "outputs": [],
   "source": [
    "def select_doc(driver):\n",
    "    element = driver.find_element(By.XPATH, '//*[@id=\"DdlFormat\"]/option[1]')\n",
    "    driver.execute_script(\"arguments[0].innerHTML = 'excel'\", element)\n",
    "    driver.execute_script(\"arguments[0].setAttribute('value', '2')\", element)\n"
   ]
  },
  {
   "cell_type": "code",
   "execution_count": 25,
   "metadata": {},
   "outputs": [],
   "source": [
    "def download_doc():\n",
    "    driver.find_element(By.ID, 'Button1').click()\n"
   ]
  },
  {
   "cell_type": "code",
   "execution_count": 22,
   "metadata": {},
   "outputs": [
    {
     "name": "stdout",
     "output_type": "stream",
     "text": [
      "C:\\Users\\raul\\Downloads\n"
     ]
    }
   ],
   "source": [
    "from pathlib import Path\n",
    "\n",
    "# Obtener el user profile folder\n",
    "downloads_path = Path.home() / \"Downloads\"\n",
    "\n",
    "# Imprimir la ruta\n",
    "print(downloads_path)"
   ]
  },
  {
   "cell_type": "code",
   "execution_count": 29,
   "metadata": {},
   "outputs": [],
   "source": [
    "if not os.path.exists('data_memorys.csv'):\n",
    "    with open('data_memorys.csv', mode = 'w', newline='') as file:\n",
    "        # file = csv.writer(f)\n",
    "        file.write(\"savedfiles\")"
   ]
  }
 ],
 "metadata": {
  "kernelspec": {
   "display_name": "Python 3",
   "language": "python",
   "name": "python3"
  },
  "language_info": {
   "codemirror_mode": {
    "name": "ipython",
    "version": 3
   },
   "file_extension": ".py",
   "mimetype": "text/x-python",
   "name": "python",
   "nbconvert_exporter": "python",
   "pygments_lexer": "ipython3",
   "version": "3.11.5"
  }
 },
 "nbformat": 4,
 "nbformat_minor": 2
}
